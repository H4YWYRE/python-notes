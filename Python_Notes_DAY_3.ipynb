{
  "nbformat": 4,
  "nbformat_minor": 0,
  "metadata": {
    "colab": {
      "provenance": [],
      "authorship_tag": "ABX9TyNLKTJirmDHIpZEeyMeNyk7",
      "include_colab_link": true
    },
    "kernelspec": {
      "name": "python3",
      "display_name": "Python 3"
    },
    "language_info": {
      "name": "python"
    }
  },
  "cells": [
    {
      "cell_type": "markdown",
      "metadata": {
        "id": "view-in-github",
        "colab_type": "text"
      },
      "source": [
        "<a href=\"https://colab.research.google.com/github/H4YWYRE/python-notes/blob/main/Python_Notes_DAY_3.ipynb\" target=\"_parent\"><img src=\"https://colab.research.google.com/assets/colab-badge.svg\" alt=\"Open In Colab\"/></a>"
      ]
    },
    {
      "cell_type": "markdown",
      "source": [
        "# String Properties & Mehtods"
      ],
      "metadata": {
        "id": "41NBV2BiA9nt"
      }
    },
    {
      "cell_type": "code",
      "execution_count": 2,
      "metadata": {
        "id": "1XbxMe-JA516"
      },
      "outputs": [],
      "source": [
        "#Immutability\n",
        "name = \"Sam\"\n"
      ]
    },
    {
      "cell_type": "code",
      "source": [
        "name = [0] = \"p\" #You will get an error because the string object does NOT support item assignment"
      ],
      "metadata": {
        "colab": {
          "base_uri": "https://localhost:8080/",
          "height": 105
        },
        "id": "6T8OJhxVBhTv",
        "outputId": "33832b35-171b-4d0c-f648-9fba2aab789b"
      },
      "execution_count": 3,
      "outputs": [
        {
          "output_type": "error",
          "ename": "SyntaxError",
          "evalue": "cannot assign to literal (<ipython-input-3-8a3a386f3cdd>, line 1)",
          "traceback": [
            "\u001b[0;36m  File \u001b[0;32m\"<ipython-input-3-8a3a386f3cdd>\"\u001b[0;36m, line \u001b[0;32m1\u001b[0m\n\u001b[0;31m    name = [0] = \"p\"\u001b[0m\n\u001b[0m            ^\u001b[0m\n\u001b[0;31mSyntaxError\u001b[0m\u001b[0;31m:\u001b[0m cannot assign to literal\n"
          ]
        }
      ]
    },
    {
      "cell_type": "code",
      "source": [
        "#This is the correct way of doing it.\n",
        "name[1:]\n",
        "last_letters = name[1:]"
      ],
      "metadata": {
        "id": "stKTktzLBpwC"
      },
      "execution_count": 29,
      "outputs": []
    },
    {
      "cell_type": "code",
      "source": [
        "\"p\"+ last_letters\n",
        "x # This process is called \"String Concatenation, where you bascially put strings together.\""
      ],
      "metadata": {
        "colab": {
          "base_uri": "https://localhost:8080/",
          "height": 37
        },
        "id": "888YOlnEB43q",
        "outputId": "6710c63f-b942-4354-80fa-df4e370cc310"
      },
      "execution_count": 25,
      "outputs": [
        {
          "output_type": "execute_result",
          "data": {
            "text/plain": [
              "'pam'"
            ],
            "application/vnd.google.colaboratory.intrinsic+json": {
              "type": "string"
            }
          },
          "metadata": {},
          "execution_count": 25
        }
      ]
    },
    {
      "cell_type": "code",
      "source": [
        "x = \"Hello World\"\n"
      ],
      "metadata": {
        "id": "LT1Aj9xJCRO5"
      },
      "execution_count": 24,
      "outputs": []
    },
    {
      "cell_type": "code",
      "source": [
        "x = x + \" My name is Carlos\" #Leave a little space."
      ],
      "metadata": {
        "id": "0YL7qQTaCWqY"
      },
      "execution_count": 26,
      "outputs": []
    },
    {
      "cell_type": "code",
      "source": [
        "# You can also do mutliplication for concatenation, here's an example:\n",
        "\n",
        "letter = 'z'"
      ],
      "metadata": {
        "id": "9Af4pFtyCptj"
      },
      "execution_count": 30,
      "outputs": []
    },
    {
      "cell_type": "code",
      "source": [
        "letter * 10 # Now we got ten Zs"
      ],
      "metadata": {
        "colab": {
          "base_uri": "https://localhost:8080/",
          "height": 37
        },
        "id": "N_NVLnKoDJBq",
        "outputId": "3ccdfdf5-1151-4cb8-c66f-5055da1caf0b"
      },
      "execution_count": 31,
      "outputs": [
        {
          "output_type": "execute_result",
          "data": {
            "text/plain": [
              "'zzzzzzzzzz'"
            ],
            "application/vnd.google.colaboratory.intrinsic+json": {
              "type": "string"
            }
          },
          "metadata": {},
          "execution_count": 31
        }
      ]
    },
    {
      "cell_type": "code",
      "source": [
        "'2' + '3' #This is why we have certain data types, in this case we get 23 rather than 5, because we are adding strings instead of integers.\n"
      ],
      "metadata": {
        "colab": {
          "base_uri": "https://localhost:8080/",
          "height": 37
        },
        "id": "0oRNUo4MDZ39",
        "outputId": "97aa2e0c-d58a-4662-f441-e9d9c6f29fba"
      },
      "execution_count": 33,
      "outputs": [
        {
          "output_type": "execute_result",
          "data": {
            "text/plain": [
              "'23'"
            ],
            "application/vnd.google.colaboratory.intrinsic+json": {
              "type": "string"
            }
          },
          "metadata": {},
          "execution_count": 33
        }
      ]
    },
    {
      "cell_type": "code",
      "source": [
        "#We have built in objects in python here's an example:\n",
        "\n",
        "x = \"Hello World\""
      ],
      "metadata": {
        "id": "ZWBmYrRgDsIx"
      },
      "execution_count": 34,
      "outputs": []
    },
    {
      "cell_type": "code",
      "source": [
        "x.upper() #This makes it all in CAPS  - ALLWAYS PUT IN THE () AT THE END."
      ],
      "metadata": {
        "colab": {
          "base_uri": "https://localhost:8080/",
          "height": 37
        },
        "id": "zDJVWaCTEnd5",
        "outputId": "32053f9c-f675-4180-bb6a-5edaf1a91728"
      },
      "execution_count": 36,
      "outputs": [
        {
          "output_type": "execute_result",
          "data": {
            "text/plain": [
              "'HELLO WORLD'"
            ],
            "application/vnd.google.colaboratory.intrinsic+json": {
              "type": "string"
            }
          },
          "metadata": {},
          "execution_count": 36
        }
      ]
    },
    {
      "cell_type": "code",
      "source": [
        "x.lower() #This makes it all lower case."
      ],
      "metadata": {
        "colab": {
          "base_uri": "https://localhost:8080/",
          "height": 37
        },
        "id": "aEVdJFqMErFp",
        "outputId": "79e88c12-63a1-4b3a-8335-023893835c59"
      },
      "execution_count": 37,
      "outputs": [
        {
          "output_type": "execute_result",
          "data": {
            "text/plain": [
              "'hello world'"
            ],
            "application/vnd.google.colaboratory.intrinsic+json": {
              "type": "string"
            }
          },
          "metadata": {},
          "execution_count": 37
        }
      ]
    },
    {
      "cell_type": "code",
      "source": [
        "#The split method, you are able to make a list off of a string. And it splits on the white space.\n",
        "\n",
        "x.split()"
      ],
      "metadata": {
        "colab": {
          "base_uri": "https://localhost:8080/"
        },
        "id": "Agjt-pFqEx3z",
        "outputId": "e79fac1a-9b97-42a6-c485-426ca362e36f"
      },
      "execution_count": 38,
      "outputs": [
        {
          "output_type": "execute_result",
          "data": {
            "text/plain": [
              "['Hello', 'World']"
            ]
          },
          "metadata": {},
          "execution_count": 38
        }
      ]
    },
    {
      "cell_type": "code",
      "source": [
        "x = 'Hi this is a string'"
      ],
      "metadata": {
        "id": "51FLJ2vxFaQc"
      },
      "execution_count": 39,
      "outputs": []
    },
    {
      "cell_type": "code",
      "source": [
        "x.split('i') #If you add in a letter it will split at that exact letter. Watch this.\n",
        "#Basically removes the 'i'"
      ],
      "metadata": {
        "colab": {
          "base_uri": "https://localhost:8080/"
        },
        "id": "kFB9Zjg7FdIf",
        "outputId": "6bc25971-8c31-442e-a41a-69bb60481e8f"
      },
      "execution_count": 44,
      "outputs": [
        {
          "output_type": "execute_result",
          "data": {
            "text/plain": [
              "['H', ' th', 's ', 's a str', 'ng']"
            ]
          },
          "metadata": {},
          "execution_count": 44
        }
      ]
    },
    {
      "cell_type": "markdown",
      "source": [
        "#String Formatting for Printing"
      ],
      "metadata": {
        "id": "XJTNhEa1GFyI"
      }
    },
    {
      "cell_type": "code",
      "source": [
        "#There are mutiple ways to inject a variable into a string.\n",
        "#This is called \"String Interpolation\" = Stick a variable into a string."
      ],
      "metadata": {
        "id": "r7FxIEnbFeuQ"
      },
      "execution_count": 45,
      "outputs": []
    },
    {
      "cell_type": "code",
      "source": [
        "print(\"This is a string {}\".format('INSERTED'))"
      ],
      "metadata": {
        "colab": {
          "base_uri": "https://localhost:8080/"
        },
        "id": "HHm9BxavHiqr",
        "outputId": "71de8924-3c5d-4b9b-c42c-9cfc05ffed09"
      },
      "execution_count": 48,
      "outputs": [
        {
          "output_type": "stream",
          "name": "stdout",
          "text": [
            "This is a string INSERTED\n"
          ]
        }
      ]
    },
    {
      "cell_type": "code",
      "source": [
        "print(\"The {} {} {}\".format('fox', 'brown', 'quick')) #We can insert many things too!"
      ],
      "metadata": {
        "colab": {
          "base_uri": "https://localhost:8080/"
        },
        "id": "M-gKAigsH0Qi",
        "outputId": "db784198-2ce0-43ca-9d26-1b972418125c"
      },
      "execution_count": 50,
      "outputs": [
        {
          "output_type": "stream",
          "name": "stdout",
          "text": [
            "The fox brown quick\n"
          ]
        }
      ]
    },
    {
      "cell_type": "code",
      "source": [
        "#Let's make it sounds more sense:\n",
        "\n",
        "print(\"The {2} {1} {0}\".format('fox', 'brown', 'quick'))\n",
        "#                                0        1       2      Assign them based on index."
      ],
      "metadata": {
        "colab": {
          "base_uri": "https://localhost:8080/"
        },
        "id": "9r6PLtWzINuS",
        "outputId": "37782393-4ef3-4fb2-f3f5-bca46198755f"
      },
      "execution_count": 51,
      "outputs": [
        {
          "output_type": "stream",
          "name": "stdout",
          "text": [
            "The quick brown fox\n"
          ]
        }
      ]
    },
    {
      "cell_type": "code",
      "source": [
        "print(\"The {0} {0} {0}\".format('fox', 'brown', 'quick')) #whatever the index is, you can change the output like this:"
      ],
      "metadata": {
        "colab": {
          "base_uri": "https://localhost:8080/"
        },
        "id": "pX_fEHcyI918",
        "outputId": "fe812886-5d64-4935-a43e-13508cc5019b"
      },
      "execution_count": 52,
      "outputs": [
        {
          "output_type": "stream",
          "name": "stdout",
          "text": [
            "The fox fox fox\n"
          ]
        }
      ]
    },
    {
      "cell_type": "code",
      "source": [
        "print(\"The {f} {b} {q} \".format(f='fox',b='brown',q='quick')) #If you don't wanna use index to insert a string, you can assign them like this!\n",
        "#This is key words"
      ],
      "metadata": {
        "colab": {
          "base_uri": "https://localhost:8080/"
        },
        "id": "bDkSmj_EJ86D",
        "outputId": "267938e7-2b34-4578-d56c-28d30bbbfe2a"
      },
      "execution_count": 66,
      "outputs": [
        {
          "output_type": "stream",
          "name": "stdout",
          "text": [
            "The fox brown quick \n"
          ]
        }
      ]
    },
    {
      "cell_type": "code",
      "source": [
        "#Another example like this would be:\n",
        "print(\"The {badass} {bro} {be} {carlos}\".format(badass = \"awesome\", bro ='gentleman', be = 'is', carlos ='carlos'))"
      ],
      "metadata": {
        "colab": {
          "base_uri": "https://localhost:8080/"
        },
        "id": "NWT4E9WiKOgO",
        "outputId": "15e83615-b094-4c57-bcac-9057a4956c02"
      },
      "execution_count": 70,
      "outputs": [
        {
          "output_type": "stream",
          "name": "stdout",
          "text": [
            "The awesome gentleman is carlos\n"
          ]
        }
      ]
    },
    {
      "cell_type": "markdown",
      "source": [
        "#Float formatting - {value:width.precision f}"
      ],
      "metadata": {
        "id": "x5x6_wy5NYUJ"
      }
    },
    {
      "cell_type": "code",
      "source": [
        "result = 100/777"
      ],
      "metadata": {
        "id": "NDgyUMCIMQsS"
      },
      "execution_count": 71,
      "outputs": []
    },
    {
      "cell_type": "code",
      "source": [
        "result"
      ],
      "metadata": {
        "colab": {
          "base_uri": "https://localhost:8080/"
        },
        "id": "Sl-0esAZNf0-",
        "outputId": "52bdb590-af60-426c-c139-d7f041f4e1ce"
      },
      "execution_count": 72,
      "outputs": [
        {
          "output_type": "execute_result",
          "data": {
            "text/plain": [
              "0.1287001287001287"
            ]
          },
          "metadata": {},
          "execution_count": 72
        }
      ]
    },
    {
      "cell_type": "code",
      "source": [
        "print(\"The result was {r:1.3f}\".format(r=result)) #With this we really are only messing with the 'precision' of the formatting\n",
        "#Which the 3 was going to 3 places to the right and then rounded the number next to it."
      ],
      "metadata": {
        "colab": {
          "base_uri": "https://localhost:8080/"
        },
        "id": "2hO7T417NhGj",
        "outputId": "5d40e415-f67f-4c0c-f737-46e035a3d337"
      },
      "execution_count": 75,
      "outputs": [
        {
          "output_type": "stream",
          "name": "stdout",
          "text": [
            "The result was 0.129\n"
          ]
        }
      ]
    },
    {
      "cell_type": "code",
      "source": [
        "print(\"The result was {r:10.3f}\".format(r=result)) #The width is how long and wide you want the string to be."
      ],
      "metadata": {
        "colab": {
          "base_uri": "https://localhost:8080/"
        },
        "id": "YC_D2wG_Nnwp",
        "outputId": "48eef96e-3540-4024-8f87-a0dd41b08010"
      },
      "execution_count": 76,
      "outputs": [
        {
          "output_type": "stream",
          "name": "stdout",
          "text": [
            "The result was      0.129\n"
          ]
        }
      ]
    },
    {
      "cell_type": "code",
      "source": [
        "#f-string literals, basically you dont need the .format method\n",
        "name = \"Carlos\""
      ],
      "metadata": {
        "id": "SVnr5uibOnLb"
      },
      "execution_count": 78,
      "outputs": []
    },
    {
      "cell_type": "code",
      "source": [
        "print(f\"Hello his name is {name}\") #Just add an f in front of the string."
      ],
      "metadata": {
        "colab": {
          "base_uri": "https://localhost:8080/"
        },
        "id": "Z_AD4RxXPEPq",
        "outputId": "2f08a270-b0e5-4574-d0b4-11558758b005"
      },
      "execution_count": 80,
      "outputs": [
        {
          "output_type": "stream",
          "name": "stdout",
          "text": [
            "Hello his name is Carlos\n"
          ]
        }
      ]
    },
    {
      "cell_type": "code",
      "source": [
        "#Another example:\n",
        "\n",
        "name = \"Carlos\"\n",
        "age = 26"
      ],
      "metadata": {
        "id": "FpWS3qj8PRdn"
      },
      "execution_count": 81,
      "outputs": []
    },
    {
      "cell_type": "code",
      "source": [
        "print(f\"His name is {name} and he is {age} years old. \")"
      ],
      "metadata": {
        "colab": {
          "base_uri": "https://localhost:8080/"
        },
        "id": "TLQ-RUSSPfpO",
        "outputId": "b83b3c78-8ede-4770-973d-df10486f3213"
      },
      "execution_count": 83,
      "outputs": [
        {
          "output_type": "stream",
          "name": "stdout",
          "text": [
            "His name is Carlos and he is 26 years old. \n"
          ]
        }
      ]
    },
    {
      "cell_type": "code",
      "source": [],
      "metadata": {
        "id": "HgVpWW0ePmws"
      },
      "execution_count": null,
      "outputs": []
    }
  ]
}