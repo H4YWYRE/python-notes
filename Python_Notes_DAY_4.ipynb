{
  "nbformat": 4,
  "nbformat_minor": 0,
  "metadata": {
    "colab": {
      "provenance": [],
      "authorship_tag": "ABX9TyPbZN5fS8eAHD7m5YhcPK6I",
      "include_colab_link": true
    },
    "kernelspec": {
      "name": "python3",
      "display_name": "Python 3"
    },
    "language_info": {
      "name": "python"
    }
  },
  "cells": [
    {
      "cell_type": "markdown",
      "metadata": {
        "id": "view-in-github",
        "colab_type": "text"
      },
      "source": [
        "<a href=\"https://colab.research.google.com/github/H4YWYRE/python-notes/blob/main/Python_Notes_DAY_4.ipynb\" target=\"_parent\"><img src=\"https://colab.research.google.com/assets/colab-badge.svg\" alt=\"Open In Colab\"/></a>"
      ]
    },
    {
      "cell_type": "markdown",
      "source": [
        "#List\n",
        "List are ordered sequence types that can hold a variety of object types.\n",
        "Lists are use [] and , to separate the objects in a list. You can also perform slicing and indexing.  "
      ],
      "metadata": {
        "id": "xXQAm430rFMg"
      }
    },
    {
      "cell_type": "code",
      "execution_count": 1,
      "metadata": {
        "id": "V5QKugsOqslo"
      },
      "outputs": [],
      "source": [
        "myList = [1,2,3]"
      ]
    },
    {
      "cell_type": "code",
      "source": [
        "myList = ['String',100,23.2] # List can also hold integers, floats and strings."
      ],
      "metadata": {
        "id": "FjU7kHQpr2Yu"
      },
      "execution_count": 2,
      "outputs": []
    },
    {
      "cell_type": "code",
      "source": [
        "len(myList) #Here the len function counted all the items."
      ],
      "metadata": {
        "colab": {
          "base_uri": "https://localhost:8080/"
        },
        "id": "iwigooiOsCkf",
        "outputId": "5c264bcd-a629-4904-8b8c-8405efa287e5"
      },
      "execution_count": 4,
      "outputs": [
        {
          "output_type": "execute_result",
          "data": {
            "text/plain": [
              "3"
            ]
          },
          "metadata": {},
          "execution_count": 4
        }
      ]
    },
    {
      "cell_type": "code",
      "source": [
        "myList = ['one','two','three']"
      ],
      "metadata": {
        "id": "fwVtm-G4sZ0w"
      },
      "execution_count": 5,
      "outputs": []
    },
    {
      "cell_type": "code",
      "source": [
        "myList[1] #Here is an example of indexing and...."
      ],
      "metadata": {
        "colab": {
          "base_uri": "https://localhost:8080/",
          "height": 37
        },
        "id": "AuKpkvr4sq8d",
        "outputId": "73382164-8ec3-4a82-c5a9-ce03eed7cf74"
      },
      "execution_count": 6,
      "outputs": [
        {
          "output_type": "execute_result",
          "data": {
            "text/plain": [
              "'two'"
            ],
            "application/vnd.google.colaboratory.intrinsic+json": {
              "type": "string"
            }
          },
          "metadata": {},
          "execution_count": 6
        }
      ]
    },
    {
      "cell_type": "code",
      "source": [
        "myList[1:] #..... Slicing"
      ],
      "metadata": {
        "colab": {
          "base_uri": "https://localhost:8080/"
        },
        "id": "PWaiwKTHstaA",
        "outputId": "6c03b6b0-fe50-4687-b708-678472d69b71"
      },
      "execution_count": 8,
      "outputs": [
        {
          "output_type": "execute_result",
          "data": {
            "text/plain": [
              "['two', 'three']"
            ]
          },
          "metadata": {},
          "execution_count": 8
        }
      ]
    },
    {
      "cell_type": "code",
      "source": [
        "anotherList = ['four', 'five']"
      ],
      "metadata": {
        "id": "WJhtm7FCsww7"
      },
      "execution_count": 9,
      "outputs": []
    },
    {
      "cell_type": "code",
      "source": [
        "myList + anotherList #Here we can add our variables and combine both lists into one whole list.\n",
        "#BUT this does NOT save the list, if you run the myList or anotherList then it will be the same before the concatenation (adding)"
      ],
      "metadata": {
        "colab": {
          "base_uri": "https://localhost:8080/"
        },
        "id": "vInIkshDtMKj",
        "outputId": "004468d8-fd93-4966-8c0e-7eb9e3928528"
      },
      "execution_count": 13,
      "outputs": [
        {
          "output_type": "execute_result",
          "data": {
            "text/plain": [
              "['one', 'two', 'three', 'four', 'five']"
            ]
          },
          "metadata": {},
          "execution_count": 13
        }
      ]
    },
    {
      "cell_type": "code",
      "source": [
        "# To actually combined both lists you have to do this:\n",
        "\n",
        "newList = myList + anotherList"
      ],
      "metadata": {
        "id": "nSsmYQwwtOXs"
      },
      "execution_count": 14,
      "outputs": []
    },
    {
      "cell_type": "code",
      "source": [
        "newList #voila!!!"
      ],
      "metadata": {
        "colab": {
          "base_uri": "https://localhost:8080/"
        },
        "id": "VekL7k3QuBrJ",
        "outputId": "b76a17f0-d4ff-4671-bf86-23d5285d8fdf"
      },
      "execution_count": 16,
      "outputs": [
        {
          "output_type": "execute_result",
          "data": {
            "text/plain": [
              "['one', 'two', 'three', 'four', 'five']"
            ]
          },
          "metadata": {},
          "execution_count": 16
        }
      ]
    },
    {
      "cell_type": "code",
      "source": [
        " # Remember when we couldn't change a STRING, but in a LIST we can!\n",
        "#Here's how.\n",
        "newList[0] = 'ONE IN ALL CAPS'"
      ],
      "metadata": {
        "id": "mF_CVJGmuCvp"
      },
      "execution_count": 20,
      "outputs": []
    },
    {
      "cell_type": "code",
      "source": [
        "newList"
      ],
      "metadata": {
        "colab": {
          "base_uri": "https://localhost:8080/"
        },
        "id": "D1lcTVWJuZwo",
        "outputId": "e0f830bb-b3e4-40e0-cc13-855284cafbec"
      },
      "execution_count": 21,
      "outputs": [
        {
          "output_type": "execute_result",
          "data": {
            "text/plain": [
              "['ONE IN ALL CAPS', 'two', 'three', 'four', 'five']"
            ]
          },
          "metadata": {},
          "execution_count": 21
        }
      ]
    },
    {
      "cell_type": "code",
      "source": [
        "#Another thing you can do is adding an item to your list, and python has a feature that can help you with that\n",
        "# Here's how its done:\n",
        "\n",
        "newList.append('six') #By using the \".append\" method you can add an item to the end of a list."
      ],
      "metadata": {
        "id": "rOO-ZY1YubFb"
      },
      "execution_count": 33,
      "outputs": []
    },
    {
      "cell_type": "code",
      "source": [
        "newList #Oh.... Here I ran the code twice and now I have two sixes, but there is a way to remove an unwanted item in a list\n",
        "#You can use the \".pop\" method and remove the last itme of a list. Try it out."
      ],
      "metadata": {
        "colab": {
          "base_uri": "https://localhost:8080/"
        },
        "id": "bJcoqXEtvcyx",
        "outputId": "6f4218db-28f7-481b-ac74-eddbadb6c6bf"
      },
      "execution_count": 34,
      "outputs": [
        {
          "output_type": "execute_result",
          "data": {
            "text/plain": [
              "['three', 'four', 'five', 'six', 'six']"
            ]
          },
          "metadata": {},
          "execution_count": 34
        }
      ]
    },
    {
      "cell_type": "code",
      "source": [
        "newList.pop()"
      ],
      "metadata": {
        "colab": {
          "base_uri": "https://localhost:8080/",
          "height": 37
        },
        "id": "47Ltup4Vvdpn",
        "outputId": "efc5a88f-b296-449f-9fd7-7039a361cff7"
      },
      "execution_count": 35,
      "outputs": [
        {
          "output_type": "execute_result",
          "data": {
            "text/plain": [
              "'six'"
            ],
            "application/vnd.google.colaboratory.intrinsic+json": {
              "type": "string"
            }
          },
          "metadata": {},
          "execution_count": 35
        }
      ]
    },
    {
      "cell_type": "code",
      "source": [
        "newList"
      ],
      "metadata": {
        "colab": {
          "base_uri": "https://localhost:8080/"
        },
        "id": "_xg0pjNsv69R",
        "outputId": "a3157679-bc58-4bcf-c2a6-0970b334a64c"
      },
      "execution_count": 36,
      "outputs": [
        {
          "output_type": "execute_result",
          "data": {
            "text/plain": [
              "['three', 'four', 'five', 'six']"
            ]
          },
          "metadata": {},
          "execution_count": 36
        }
      ]
    },
    {
      "cell_type": "code",
      "source": [
        "newList.pop(0) #By indexing and using the .pop method we can remove specific items in the list.\n",
        "#reverse indexing works as well too!"
      ],
      "metadata": {
        "colab": {
          "base_uri": "https://localhost:8080/",
          "height": 37
        },
        "id": "Q_DaYz1lv7_e",
        "outputId": "70364c20-128d-4efa-b260-93888f562ca0"
      },
      "execution_count": 41,
      "outputs": [
        {
          "output_type": "execute_result",
          "data": {
            "text/plain": [
              "'five'"
            ],
            "application/vnd.google.colaboratory.intrinsic+json": {
              "type": "string"
            }
          },
          "metadata": {},
          "execution_count": 41
        }
      ]
    },
    {
      "cell_type": "code",
      "source": [
        "newList\n"
      ],
      "metadata": {
        "colab": {
          "base_uri": "https://localhost:8080/"
        },
        "id": "lqjjAFwxwehF",
        "outputId": "703cd96f-28b5-4ce7-d9b0-a86268bfa994"
      },
      "execution_count": 42,
      "outputs": [
        {
          "output_type": "execute_result",
          "data": {
            "text/plain": [
              "['six']"
            ]
          },
          "metadata": {},
          "execution_count": 42
        }
      ]
    },
    {
      "cell_type": "code",
      "source": [
        "newList = ['a','e','x','b','c']\n",
        "numList = [4,1,8,3] #You're wondering why all the items are unordered? I'm glad you asked, the next step is where you can\n",
        "#Use the .sort method to basically sort the items."
      ],
      "metadata": {
        "id": "-8TK0EKbwf1n"
      },
      "execution_count": 45,
      "outputs": []
    },
    {
      "cell_type": "code",
      "source": [
        "newList.sort()"
      ],
      "metadata": {
        "id": "fDAwp_GSxusn"
      },
      "execution_count": 46,
      "outputs": []
    },
    {
      "cell_type": "code",
      "source": [
        "newList"
      ],
      "metadata": {
        "colab": {
          "base_uri": "https://localhost:8080/"
        },
        "id": "geLYxoYTyYnm",
        "outputId": "fcdac161-ef24-43f5-84e4-e32a9331ee4c"
      },
      "execution_count": 48,
      "outputs": [
        {
          "output_type": "execute_result",
          "data": {
            "text/plain": [
              "['a', 'b', 'c', 'e', 'x']"
            ]
          },
          "metadata": {},
          "execution_count": 48
        }
      ]
    },
    {
      "cell_type": "code",
      "source": [
        "numList.sort()"
      ],
      "metadata": {
        "id": "JDNvYbAjyZ4l"
      },
      "execution_count": 49,
      "outputs": []
    },
    {
      "cell_type": "code",
      "source": [
        "numList #I'm getting good at this! :)"
      ],
      "metadata": {
        "colab": {
          "base_uri": "https://localhost:8080/"
        },
        "id": "3g_wnba3yexH",
        "outputId": "71df51de-04cd-4c19-9dd0-ebdc3825cd93"
      },
      "execution_count": 51,
      "outputs": [
        {
          "output_type": "execute_result",
          "data": {
            "text/plain": [
              "[1, 3, 4, 8]"
            ]
          },
          "metadata": {},
          "execution_count": 51
        }
      ]
    },
    {
      "cell_type": "code",
      "source": [
        "# There is also the .reverse method, where it will reverse the order of your list. Here's an example:\n",
        "\n",
        "numList.reverse()"
      ],
      "metadata": {
        "id": "xHqyowrHyfx-"
      },
      "execution_count": 52,
      "outputs": []
    },
    {
      "cell_type": "code",
      "source": [
        "numList"
      ],
      "metadata": {
        "colab": {
          "base_uri": "https://localhost:8080/"
        },
        "id": "j2jA-rN70AFv",
        "outputId": "691095df-9921-4e19-8324-0538b2c8503b"
      },
      "execution_count": 53,
      "outputs": [
        {
          "output_type": "execute_result",
          "data": {
            "text/plain": [
              "[8, 4, 3, 1]"
            ]
          },
          "metadata": {},
          "execution_count": 53
        }
      ]
    },
    {
      "cell_type": "code",
      "source": [],
      "metadata": {
        "id": "NMyPsnK70BCa"
      },
      "execution_count": null,
      "outputs": []
    }
  ]
}