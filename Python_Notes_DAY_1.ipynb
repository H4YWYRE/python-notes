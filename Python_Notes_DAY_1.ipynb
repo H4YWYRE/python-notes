{
  "nbformat": 4,
  "nbformat_minor": 0,
  "metadata": {
    "colab": {
      "provenance": [],
      "authorship_tag": "ABX9TyN4ryXyeEfucL/xCZQIfbtF",
      "include_colab_link": true
    },
    "kernelspec": {
      "name": "python3",
      "display_name": "Python 3"
    },
    "language_info": {
      "name": "python"
    }
  },
  "cells": [
    {
      "cell_type": "markdown",
      "metadata": {
        "id": "view-in-github",
        "colab_type": "text"
      },
      "source": [
        "<a href=\"https://colab.research.google.com/github/H4YWYRE/python-notes/blob/main/Python_Notes_DAY_1.ipynb\" target=\"_parent\"><img src=\"https://colab.research.google.com/assets/colab-badge.svg\" alt=\"Open In Colab\"/></a>"
      ]
    },
    {
      "cell_type": "markdown",
      "source": [
        "Basic Data Types:\n",
        "\n",
        "* Intergers - Int  | Whole Numbers\n",
        "* Floating Point -  | float Numbers with decimal\n",
        "* Strings - str  | Character types e.g \"things that have \" \" or '' marks in them.\n",
        "* Lists - list | Character types with [ ] in them e.g [\"Hello\", 5 , 34.5 ]\n",
        "* Dictionaries - dict | Unordered Key value pairs - *more on that later*\n",
        "* Tuples - tup | Ordered immutable (cannot be changed) sequence of objects.  \n",
        "* Sets - set | *more later on*\n",
        "* Booleans - bool  | True or False values"
      ],
      "metadata": {
        "id": "324I9QpMGVVj"
      }
    },
    {
      "cell_type": "markdown",
      "source": [
        "Numbers in Pyhton:\n",
        "\n",
        "You can do Additon, Subtraction, and division"
      ],
      "metadata": {
        "id": "NCLYzlg0J83p"
      }
    },
    {
      "cell_type": "code",
      "source": [
        "2+2"
      ],
      "metadata": {
        "colab": {
          "base_uri": "https://localhost:8080/"
        },
        "id": "ihY1Iw9yHFih",
        "outputId": "a99ee16c-d1d8-4244-abbc-7f8fa9783ad1"
      },
      "execution_count": null,
      "outputs": [
        {
          "output_type": "execute_result",
          "data": {
            "text/plain": [
              "4"
            ]
          },
          "metadata": {},
          "execution_count": 1
        }
      ]
    },
    {
      "cell_type": "code",
      "source": [
        "3-4"
      ],
      "metadata": {
        "colab": {
          "base_uri": "https://localhost:8080/"
        },
        "id": "4L445AY2KKL0",
        "outputId": "2b2d7b4c-dfb0-45d2-c9c8-49f52511ab51"
      },
      "execution_count": null,
      "outputs": [
        {
          "output_type": "execute_result",
          "data": {
            "text/plain": [
              "-1"
            ]
          },
          "metadata": {},
          "execution_count": 2
        }
      ]
    },
    {
      "cell_type": "code",
      "source": [
        "4/2"
      ],
      "metadata": {
        "colab": {
          "base_uri": "https://localhost:8080/"
        },
        "id": "OHqgQVZTKMxC",
        "outputId": "15c834b2-bf32-4dfb-846c-a36d477a0591"
      },
      "execution_count": null,
      "outputs": [
        {
          "output_type": "execute_result",
          "data": {
            "text/plain": [
              "2.0"
            ]
          },
          "metadata": {},
          "execution_count": 4
        }
      ]
    },
    {
      "cell_type": "markdown",
      "source": [
        "Modulo \"Mod\" Operator\n",
        "Shows the remainder\n"
      ],
      "metadata": {
        "id": "Z_B72u5nKRC2"
      }
    },
    {
      "cell_type": "code",
      "source": [
        "7%4"
      ],
      "metadata": {
        "colab": {
          "base_uri": "https://localhost:8080/"
        },
        "id": "TkI7hwMxKPQ9",
        "outputId": "86666833-d311-43d9-d154-db64b1002658"
      },
      "execution_count": null,
      "outputs": [
        {
          "output_type": "execute_result",
          "data": {
            "text/plain": [
              "3"
            ]
          },
          "metadata": {},
          "execution_count": 6
        }
      ]
    },
    {
      "cell_type": "markdown",
      "source": [
        "This is good to check if its going to be even or odd\n",
        "\n",
        "even = 0\n",
        "odd = anything other than 0"
      ],
      "metadata": {
        "id": "09lNRdulKwk3"
      }
    },
    {
      "cell_type": "markdown",
      "source": [
        "Powers"
      ],
      "metadata": {
        "id": "OZE1Qon3LSGb"
      }
    },
    {
      "cell_type": "code",
      "source": [
        "2 ** 3"
      ],
      "metadata": {
        "colab": {
          "base_uri": "https://localhost:8080/"
        },
        "id": "Lj3rLQvRKSr8",
        "outputId": "da4c419f-3d33-484c-a367-adabfef0d3aa"
      },
      "execution_count": null,
      "outputs": [
        {
          "output_type": "execute_result",
          "data": {
            "text/plain": [
              "8"
            ]
          },
          "metadata": {},
          "execution_count": 7
        }
      ]
    },
    {
      "cell_type": "markdown",
      "source": [
        "Order of operations"
      ],
      "metadata": {
        "id": "962cv3wpLUQD"
      }
    },
    {
      "cell_type": "code",
      "source": [
        "2 + 10 * 10 + 3"
      ],
      "metadata": {
        "colab": {
          "base_uri": "https://localhost:8080/"
        },
        "id": "mhzSK_PBLEro",
        "outputId": "f793ed87-d2bf-4f82-b085-60209831e576"
      },
      "execution_count": null,
      "outputs": [
        {
          "output_type": "execute_result",
          "data": {
            "text/plain": [
              "105"
            ]
          },
          "metadata": {},
          "execution_count": 8
        }
      ]
    },
    {
      "cell_type": "markdown",
      "source": [
        "Basic Order of operations of math."
      ],
      "metadata": {
        "id": "rX_43AdQLYwb"
      }
    },
    {
      "cell_type": "code",
      "source": [
        "(2+10) * (10+3)"
      ],
      "metadata": {
        "colab": {
          "base_uri": "https://localhost:8080/"
        },
        "id": "Sa_kYuiNLKMU",
        "outputId": "59c8d42e-c864-4058-a639-5d140871642c"
      },
      "execution_count": null,
      "outputs": [
        {
          "output_type": "execute_result",
          "data": {
            "text/plain": [
              "156"
            ]
          },
          "metadata": {},
          "execution_count": 9
        }
      ]
    },
    {
      "cell_type": "markdown",
      "source": [
        "#Variable Assignments\n",
        "Assign the data types to a variable name.\n",
        "\n",
        "Rules for variable names:\n",
        "* Names cannot start with numbers.\n",
        "* There can't be no space in the name use ___ instead.\n",
        "* Cannot have these kinds of symbols in the name <> $ % & * ~ - + \"\" ; ,\n",
        "\n",
        "YOU WILL get an ERROR with this.\n",
        "\n",
        "keep all the names lowercase.\n",
        "\n",
        "avoid using special names in python like str, list, etc.\n",
        "\n",
        "You can reassign data types in python.\n",
        "\n",
        "e.g my_dogs = 2   | my_dogs = [\"Sammy\", \"Frankie\"]\n",
        "\n",
        "Doing this in other languages would get an error.\n",
        "\n",
        "There are pros and cons with dynamic typing:\n",
        "\n",
        "Pro: Very easy and faster dev time.\n",
        "Cons: May get bug for unexpected data types. bc of user input and not having these restrictions and be aware of the type() for any variable."
      ],
      "metadata": {
        "id": "2jhRE9xSLzcj"
      }
    },
    {
      "cell_type": "code",
      "source": [
        "a = 5"
      ],
      "metadata": {
        "id": "Kk3I2rMhLN_Q"
      },
      "execution_count": null,
      "outputs": []
    },
    {
      "cell_type": "code",
      "source": [
        "a = \"Hi\""
      ],
      "metadata": {
        "id": "1OpE3O8TOMVn"
      },
      "execution_count": null,
      "outputs": []
    },
    {
      "cell_type": "code",
      "source": [
        "a"
      ],
      "metadata": {
        "colab": {
          "base_uri": "https://localhost:8080/"
        },
        "id": "4BsNg6q3ONuW",
        "outputId": "b43921a0-babb-4f8a-ee6d-98a5d94bd3c0"
      },
      "execution_count": null,
      "outputs": [
        {
          "output_type": "execute_result",
          "data": {
            "text/plain": [
              "5"
            ]
          },
          "metadata": {},
          "execution_count": 14
        }
      ]
    },
    {
      "cell_type": "code",
      "source": [
        "a = 10"
      ],
      "metadata": {
        "id": "QrJzG9ivOO9M"
      },
      "execution_count": null,
      "outputs": []
    },
    {
      "cell_type": "code",
      "source": [
        "a = a + a"
      ],
      "metadata": {
        "id": "i4BBEdOwOXDY"
      },
      "execution_count": null,
      "outputs": []
    },
    {
      "cell_type": "code",
      "source": [
        "a"
      ],
      "metadata": {
        "colab": {
          "base_uri": "https://localhost:8080/"
        },
        "id": "rd5pnZo1OtLM",
        "outputId": "fee1bcfc-570a-4b8c-c4a5-7c68d6eefe71"
      },
      "execution_count": null,
      "outputs": [
        {
          "output_type": "execute_result",
          "data": {
            "text/plain": [
              "160"
            ]
          },
          "metadata": {},
          "execution_count": 38
        }
      ]
    },
    {
      "cell_type": "code",
      "source": [
        "type(a)"
      ],
      "metadata": {
        "colab": {
          "base_uri": "https://localhost:8080/"
        },
        "id": "LnlYawsMPHkp",
        "outputId": "217eac7e-6b99-41ff-ac55-2cc76c493a7d"
      },
      "execution_count": null,
      "outputs": [
        {
          "output_type": "execute_result",
          "data": {
            "text/plain": [
              "int"
            ]
          },
          "metadata": {},
          "execution_count": 39
        }
      ]
    },
    {
      "cell_type": "code",
      "source": [
        "a = 30.1"
      ],
      "metadata": {
        "id": "FydZM6NePU2o"
      },
      "execution_count": null,
      "outputs": []
    },
    {
      "cell_type": "code",
      "source": [
        "type(a)"
      ],
      "metadata": {
        "colab": {
          "base_uri": "https://localhost:8080/"
        },
        "id": "1nWx1PcdPYOo",
        "outputId": "1cc4d67b-0ccd-4064-e7f9-083283afb25e"
      },
      "execution_count": null,
      "outputs": [
        {
          "output_type": "execute_result",
          "data": {
            "text/plain": [
              "float"
            ]
          },
          "metadata": {},
          "execution_count": 41
        }
      ]
    },
    {
      "cell_type": "code",
      "source": [
        "a = \"Carlos\""
      ],
      "metadata": {
        "id": "ETEoltEYPZEt"
      },
      "execution_count": null,
      "outputs": []
    },
    {
      "cell_type": "code",
      "source": [
        "type(a)"
      ],
      "metadata": {
        "colab": {
          "base_uri": "https://localhost:8080/"
        },
        "id": "EMC1-RlKPaql",
        "outputId": "ad4db7c7-b6e4-4ce0-ebf2-6334e2121cb8"
      },
      "execution_count": null,
      "outputs": [
        {
          "output_type": "execute_result",
          "data": {
            "text/plain": [
              "str"
            ]
          },
          "metadata": {},
          "execution_count": 43
        }
      ]
    },
    {
      "cell_type": "code",
      "source": [
        "int = 4"
      ],
      "metadata": {
        "id": "I58nPdwXPbss"
      },
      "execution_count": null,
      "outputs": []
    },
    {
      "cell_type": "code",
      "source": [
        "int"
      ],
      "metadata": {
        "colab": {
          "base_uri": "https://localhost:8080/"
        },
        "id": "kyA0UPs9Pe_U",
        "outputId": "f7712642-af29-4a38-c303-1ac5308ac41e"
      },
      "execution_count": null,
      "outputs": [
        {
          "output_type": "execute_result",
          "data": {
            "text/plain": [
              "4"
            ]
          },
          "metadata": {},
          "execution_count": 46
        }
      ]
    },
    {
      "cell_type": "code",
      "source": [
        "a"
      ],
      "metadata": {
        "colab": {
          "base_uri": "https://localhost:8080/",
          "height": 37
        },
        "id": "xPoxkcxtPgCA",
        "outputId": "669bfe93-7941-4f46-a5d6-b1d1ad43ca2c"
      },
      "execution_count": null,
      "outputs": [
        {
          "output_type": "execute_result",
          "data": {
            "text/plain": [
              "'Carlos'"
            ],
            "application/vnd.google.colaboratory.intrinsic+json": {
              "type": "string"
            }
          },
          "metadata": {},
          "execution_count": 47
        }
      ]
    },
    {
      "cell_type": "code",
      "source": [
        "my_income = 100\n",
        "tax_rate = 0.1\n",
        "my_taxes = my_income * tax_rate"
      ],
      "metadata": {
        "id": "FosD2i-YQRdC"
      },
      "execution_count": null,
      "outputs": []
    },
    {
      "cell_type": "code",
      "source": [
        "my_taxes"
      ],
      "metadata": {
        "colab": {
          "base_uri": "https://localhost:8080/"
        },
        "id": "CB78fVZYQcuz",
        "outputId": "95ab538c-58e5-431c-8819-d85cdeae8717"
      },
      "execution_count": null,
      "outputs": [
        {
          "output_type": "execute_result",
          "data": {
            "text/plain": [
              "10.0"
            ]
          },
          "metadata": {},
          "execution_count": 49
        }
      ]
    },
    {
      "cell_type": "code",
      "source": [],
      "metadata": {
        "id": "d5Fu0bcwQeJS"
      },
      "execution_count": null,
      "outputs": []
    }
  ]
}